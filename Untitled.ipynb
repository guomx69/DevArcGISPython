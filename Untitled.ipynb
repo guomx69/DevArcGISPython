{
 "cells": [
  {
   "cell_type": "code",
   "execution_count": 9,
   "id": "870995a3",
   "metadata": {},
   "outputs": [],
   "source": [
    "from arcgis.gis import GIS"
   ]
  },
  {
   "cell_type": "code",
   "execution_count": 14,
   "id": "9b7cc3d1",
   "metadata": {},
   "outputs": [],
   "source": [
    "c=GIS().content"
   ]
  },
  {
   "cell_type": "code",
   "execution_count": 21,
   "id": "f5dd1cd6",
   "metadata": {},
   "outputs": [
    {
     "data": {
      "text/plain": [
       "1"
      ]
     },
     "execution_count": 21,
     "metadata": {},
     "output_type": "execute_result"
    }
   ],
   "source": [
    "9-8"
   ]
  }
 ],
 "metadata": {
  "kernelspec": {
   "display_name": "Python 3 (ipykernel)",
   "language": "python",
   "name": "python3"
  },
  "language_info": {
   "codemirror_mode": {
    "name": "ipython",
    "version": 3
   },
   "file_extension": ".py",
   "mimetype": "text/x-python",
   "name": "python",
   "nbconvert_exporter": "python",
   "pygments_lexer": "ipython3",
   "version": "3.11.8"
  }
 },
 "nbformat": 4,
 "nbformat_minor": 5
}
