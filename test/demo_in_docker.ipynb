{
 "cells": [
  {
   "cell_type": "code",
   "execution_count": null,
   "id": "3cdfb59d",
   "metadata": {},
   "outputs": [],
   "source": [
    "from arcgis.gis import GIS\n",
    "from IPython.display import display\n",
    "\n",
    "print(\"ArcGIS Online as anonymous user\")    \n",
    "gis = GIS()\n",
    "print(\"Logged in as anonymous user to \" + gis.properties.portalName)\n",
    "public_content = gis.content.search(\"Fire\", item_type=\"Feature Layer\", max_items=5)\n",
    "\n",
    "for item in public_content:\n",
    "  display(item)"
   ]
  },
  {
   "cell_type": "code",
   "execution_count": null,
   "id": "ff7a6d5d",
   "metadata": {},
   "outputs": [],
   "source": []
  },
  {
   "cell_type": "code",
   "execution_count": null,
   "id": "dbfc81c5",
   "metadata": {},
   "outputs": [],
   "source": []
  }
 ],
 "metadata": {
  "kernelspec": {
   "display_name": "Python 3 (ipykernel)",
   "language": "python",
   "name": "python3"
  }
 },
 "nbformat": 4,
 "nbformat_minor": 5
}
